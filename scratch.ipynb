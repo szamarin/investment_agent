{
 "cells": [
  {
   "cell_type": "code",
   "execution_count": 11,
   "metadata": {},
   "outputs": [],
   "source": [
    "from duckduckgo_search import DDGS"
   ]
  },
  {
   "cell_type": "code",
   "execution_count": 12,
   "metadata": {},
   "outputs": [],
   "source": [
    "ddgs = DDGS()"
   ]
  },
  {
   "cell_type": "code",
   "execution_count": 20,
   "metadata": {},
   "outputs": [],
   "source": [
    "results = ddgs.text(\"latest amazon news\", max_results=10)\n",
    "if len(results) == 0:\n",
    "    raise Exception(\"No results found! Try a less restrictive/shorter query.\")\n",
    "postprocessed_results = [f\"[{result['title']}]({result['href']})\\n{result['body']}\" for result in results]"
   ]
  },
  {
   "cell_type": "code",
   "execution_count": 21,
   "metadata": {},
   "outputs": [
    {
     "name": "stdout",
     "output_type": "stream",
     "text": [
      "## Search Results\n",
      "\n",
      "[Amazon News](https://www.aboutamazon.com/news)\n",
      "Amazon is guided by four principles: customer obsession rather than competitor focus, passion for invention, commitment to operational excellence, and long-term thinking. This is our story.\n",
      "\n",
      "[Amazon.com, Inc. (AMZN) Latest Stock News & Headlines - Yahoo Finance](https://finance.yahoo.com/quote/AMZN/news/)\n",
      "Get the latest Amazon.com, Inc. (AMZN) stock news and headlines to help you in your trading and investing decisions.\n",
      "\n",
      "[Amazon News | About Amazon](https://www.aboutamazon.com/amazon-news-today)\n",
      "The latest news and announcements from Amazon. Amazon MGM Studios, Michael G. Wilson, and Barbara Broccoli today announced that they have formed a new joint venture to house the James Bond intellectual property rights, and those parties will remain co-owners of the franchise.\n",
      "\n",
      "[Amazon News: Breaking news about Amazon and latest company updates](https://www.aboutamazon.com/?am1)\n",
      "News announcements, original stories, and facts about Amazon. News. About Us Our Impact. Subscribe. Amazon is increasing wages and adding Prime benefits for fulfillment and transportation employees. 9 free skills training programs that help Amazon employees land higher-paying roles ... A new Amazon AI initiative includes scholarships and free ...\n",
      "\n",
      "[Amazon exceeds revenue estimates as it invests in AI | AP News](https://apnews.com/article/amazon-be372ef0caaab068b2d0cd256aa9e716)\n",
      "Amazon said it earned $15.3 billion, higher than the $12.21 billion industry analysts surveyed by FactSet had anticipated. Amazon earned $9.9 billion during the same period last year. Earnings per share were $1.43, higher than analysts' expectations of $1.14. Net sales increased 11% compared with the third quarter of 2023, Amazon said.\n",
      "\n",
      "[Amazon News Today & Store & Stock Updates | Fox Business](https://www.foxbusiness.com/category/Amazon)\n",
      "Explore the latest Amazon business news and developments with Fox Business. Get real-time updates and expert analysis on Amazon's operations, innovations, and market impact, ensuring you stay ...\n",
      "\n",
      "[Amazon News & Videos - ABC News](https://abcnews.go.com/alerts/amazon)\n",
      "Follow the latest Amazon news stories and headlines. Get breaking news alerts when you download the ABC News App and subscribe to Amazon notifications.\n",
      "\n",
      "[Amazon news - Today's latest updates - CBS News](https://www.cbsnews.com/tag/amazon/)\n",
      "Amazon founder Jeff Bezos on Wednesday will be the latest tech leader to meet with President-elect Donald Trump at Mar-a-Lago. CBS News political correspondent Caitlin Huey-Burns has more. Dec 18 ...\n",
      "\n",
      "[Amazon reaches $2 trillion in stock market value for the first time - NPR](https://www.npr.org/2024/06/27/g-s1-6525/amazon-2-trillion-stock-market-value)\n",
      "NEW YORK — Amazon joined the exclusive $2 trillion club Wednesday after Wall Street investors pushed the value of the e-commerce giant's stock past that threshold.\n",
      "\n",
      "[Amazon revenue jumps 13%, continuing rebound - CNN](https://www.cnn.com/2023-10-26-amazon-q3-earnings/index.html)\n",
      "Amazon's good year continues. Amazon's good year continues. ... Corporate news See your latest updates. The Amazon Prime logo, taken on a package carrier in Manhattan, New York, on September 16.\n"
     ]
    }
   ],
   "source": [
    "print(\"## Search Results\\n\\n\" + \"\\n\\n\".join(postprocessed_results))"
   ]
  },
  {
   "cell_type": "code",
   "execution_count": null,
   "metadata": {},
   "outputs": [],
   "source": [
    "rm -rf action_handlers/stock_data/package/\n",
    "python action_handlers/stock_data/lambda_code/index.py\n",
    "uv pip install -r action_handlers/stock_data/requirements.txt --target action_handlers/stock_data/package \n",
    "rm -rf action_handlers/stock_data/package/numpy action_handlers/stock_data/package/pandas action_handlers/stock_data/package/lxml*\n",
    "cp -rf action_handlers/stock_data/lambda_code/. action_handlers/stock_data/package/"
   ]
  },
  {
   "cell_type": "code",
   "execution_count": null,
   "metadata": {},
   "outputs": [],
   "source": [
    "sam local invoke ApiFunction --no-event -t cdk.out/BedrockAgentsStack.template.json"
   ]
  }
 ],
 "metadata": {
  "kernelspec": {
   "display_name": ".venv",
   "language": "python",
   "name": "python3"
  },
  "language_info": {
   "codemirror_mode": {
    "name": "ipython",
    "version": 3
   },
   "file_extension": ".py",
   "mimetype": "text/x-python",
   "name": "python",
   "nbconvert_exporter": "python",
   "pygments_lexer": "ipython3",
   "version": "3.11.9"
  }
 },
 "nbformat": 4,
 "nbformat_minor": 2
}
